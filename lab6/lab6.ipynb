{
 "cells": [
  {
   "cell_type": "code",
   "execution_count": 1,
   "metadata": {},
   "outputs": [
    {
     "ename": "ModuleNotFoundError",
     "evalue": "No module named 'statsmodels'",
     "output_type": "error",
     "traceback": [
      "\u001b[1;31m---------------------------------------------------------------------------\u001b[0m",
      "\u001b[1;31mModuleNotFoundError\u001b[0m                       Traceback (most recent call last)",
      "\u001b[1;32md:\\Stat\\lab6\\lab6.ipynb Cell 1\u001b[0m line \u001b[0;36m8\n\u001b[0;32m      <a href='vscode-notebook-cell:/d%3A/Stat/lab6/lab6.ipynb#W0sZmlsZQ%3D%3D?line=4'>5</a>\u001b[0m \u001b[39mimport\u001b[39;00m \u001b[39mpandas\u001b[39;00m \u001b[39mas\u001b[39;00m \u001b[39mpd\u001b[39;00m\n\u001b[0;32m      <a href='vscode-notebook-cell:/d%3A/Stat/lab6/lab6.ipynb#W0sZmlsZQ%3D%3D?line=5'>6</a>\u001b[0m \u001b[39mfrom\u001b[39;00m \u001b[39msklearn\u001b[39;00m\u001b[39m.\u001b[39;00m\u001b[39mmetrics\u001b[39;00m \u001b[39mimport\u001b[39;00m mean_absolute_error,mean_squared_error\n\u001b[1;32m----> <a href='vscode-notebook-cell:/d%3A/Stat/lab6/lab6.ipynb#W0sZmlsZQ%3D%3D?line=7'>8</a>\u001b[0m \u001b[39mfrom\u001b[39;00m \u001b[39mstatsmodels\u001b[39;00m\u001b[39m.\u001b[39;00m\u001b[39mtsa\u001b[39;00m\u001b[39m.\u001b[39;00m\u001b[39mfilters\u001b[39;00m\u001b[39m.\u001b[39;00m\u001b[39mhp_filter\u001b[39;00m \u001b[39mimport\u001b[39;00m hpfilter\n\u001b[0;32m      <a href='vscode-notebook-cell:/d%3A/Stat/lab6/lab6.ipynb#W0sZmlsZQ%3D%3D?line=8'>9</a>\u001b[0m \u001b[39mfrom\u001b[39;00m \u001b[39mstatsmodels\u001b[39;00m\u001b[39m.\u001b[39;00m\u001b[39mtsa\u001b[39;00m\u001b[39m.\u001b[39;00m\u001b[39mseasonal\u001b[39;00m \u001b[39mimport\u001b[39;00m seasonal_decompose\n\u001b[0;32m     <a href='vscode-notebook-cell:/d%3A/Stat/lab6/lab6.ipynb#W0sZmlsZQ%3D%3D?line=10'>11</a>\u001b[0m \u001b[39mfrom\u001b[39;00m \u001b[39mstatsmodels\u001b[39;00m\u001b[39m.\u001b[39;00m\u001b[39mtsa\u001b[39;00m\u001b[39m.\u001b[39;00m\u001b[39mholtwinters\u001b[39;00m \u001b[39mimport\u001b[39;00m SimpleExpSmoothing\n",
      "\u001b[1;31mModuleNotFoundError\u001b[0m: No module named 'statsmodels'"
     ]
    }
   ],
   "source": [
    "import numpy as np\n",
    "\n",
    "import matplotlib.pyplot as plt\n",
    "import seaborn as sns\n",
    "import pandas as pd\n",
    "from sklearn.metrics import mean_absolute_error,mean_squared_error\n",
    "\n",
    "from statsmodels.tsa.filters.hp_filter import hpfilter\n",
    "from statsmodels.tsa.seasonal import seasonal_decompose\n",
    "\n",
    "from statsmodels.tsa.holtwinters import SimpleExpSmoothing\n",
    "from statsmodels.tsa.holtwinters import ExponentialSmoothing\n",
    "\n",
    "airline = pd.read_csv(\"airline_passengers.csv\", index_col='Month', parse_dates=True)\n",
    "airline.index.freq = 'MS'\n",
    "\n",
    "train_airline = airline[:108]  # 108\n",
    "test_airline = airline[108:]  # 36\n",
    "\n",
    "fitted_model = ExponentialSmoothing(train_airline['Thousands of Passengers'], trend='mul', seasonal='mul', seasonal_periods=12).fit()\n",
    "test_predictions = fitted_model.forecast(36).rename('HW Test Forecast')\n",
    "\n",
    "train_airline['Thousands of Passengers'].plot(legend=True, label='TRAIN')\n",
    "test_airline['Thousands of Passengers'].plot(legend=True, label='TEST', figsize=(12, 8))\n",
    "plt.title('Train and Test Data')\n",
    "plt.show()\n",
    "\n",
    "train_airline['Thousands of Passengers'].plot(legend=True, label='TRAIN')\n",
    "test_airline['Thousands of Passengers'].plot(legend=True, label='TEST', figsize=(12, 8))\n",
    "test_predictions.plot(legend=True, label='PREDICTION')\n",
    "plt.title('Train, Test and Predicted Test using Holt Winters')\n",
    "plt.show()\n",
    "\n",
    "train_airline['Thousands of Passengers'].plot(legend=True, label='TRAIN')\n",
    "test_airline['Thousands of Passengers'].plot(legend=True, label='TEST', figsize=(12, 8))\n",
    "test_predictions.plot(legend=True, label='PREDICTION', xlim=['1958-01-01', '1961-01-01'])\n",
    "plt.show()\n",
    "\n",
    "print(f'Mean Absolute Error = {mean_absolute_error(test_airline, test_predictions)}')\n",
    "print(f'Mean Squared Error = {mean_squared_error(test_airline, test_predictions)}')\n",
    "\n",
    "final_model = ExponentialSmoothing(airline['Thousands of Passengers'], trend='mul', seasonal='mul', seasonal_periods=12).fit()\n",
    "\n",
    "forecast_predictions = final_model.forecast(steps=36)\n",
    "\n",
    "airline['Thousands of Passengers'].plot(figsize=(12, 8), legend=True, label='Current Airline Passengers')\n",
    "forecast_predictions.plot(legend=True, label='Forecasted Airline Passengers')\n",
    "plt.title('Airline Passenger Forecast')\n",
    "\n",
    "plt.show()"
   ]
  }
 ],
 "metadata": {
  "kernelspec": {
   "display_name": "Python 3",
   "language": "python",
   "name": "python3"
  },
  "language_info": {
   "codemirror_mode": {
    "name": "ipython",
    "version": 3
   },
   "file_extension": ".py",
   "mimetype": "text/x-python",
   "name": "python",
   "nbconvert_exporter": "python",
   "pygments_lexer": "ipython3",
   "version": "3.11.5"
  }
 },
 "nbformat": 4,
 "nbformat_minor": 2
}
